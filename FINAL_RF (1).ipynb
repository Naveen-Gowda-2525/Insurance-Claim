{
  "nbformat": 4,
  "nbformat_minor": 0,
  "metadata": {
    "colab": {
      "name": "FINAL_RF.ipynb",
      "provenance": [],
      "collapsed_sections": []
    },
    "kernelspec": {
      "name": "python3",
      "display_name": "Python 3"
    },
    "language_info": {
      "name": "python"
    },
    "accelerator": "GPU"
  },
  "cells": [
    {
      "cell_type": "code",
      "metadata": {
        "id": "hqW59WqSgBkz"
      },
      "source": [
        "import pandas as pd \n",
        "import numpy as np\n",
        "import seaborn as sns\n",
        "from sklearn.preprocessing import LabelEncoder\n",
        "import matplotlib.pyplot as plt\n",
        "from sklearn.preprocessing import scale \n",
        "from sklearn.model_selection import train_test_split \n",
        "#from sklearn.model_selection import train_test_split # train and test \n",
        "from sklearn import metrics\n",
        "#from sklearn import preprocessing\n",
        "from sklearn.metrics import classification_report "
      ],
      "execution_count": 2,
      "outputs": []
    },
    {
      "cell_type": "code",
      "metadata": {
        "colab": {
          "base_uri": "https://localhost:8080/"
        },
        "id": "8Xn6Rr87gRHe",
        "outputId": "726dc3cc-9662-4aed-8e75-de3c9f016c5c"
      },
      "source": [
        "from google.colab import drive\n",
        "drive.mount('/content/drive')"
      ],
      "execution_count": 3,
      "outputs": [
        {
          "output_type": "stream",
          "text": [
            "Mounted at /content/drive\n"
          ],
          "name": "stdout"
        }
      ]
    },
    {
      "cell_type": "code",
      "metadata": {
        "colab": {
          "base_uri": "https://localhost:8080/",
          "height": 445
        },
        "id": "Jzv9lbtWgRKV",
        "outputId": "7be65710-f13d-4717-c712-8bfe25a21221"
      },
      "source": [
        "data = pd.read_csv(\"/content/drive/MyDrive/Insurance Dataset.csv\")\n",
        "data.head()"
      ],
      "execution_count": 4,
      "outputs": [
        {
          "output_type": "execute_result",
          "data": {
            "text/html": [
              "<div>\n",
              "<style scoped>\n",
              "    .dataframe tbody tr th:only-of-type {\n",
              "        vertical-align: middle;\n",
              "    }\n",
              "\n",
              "    .dataframe tbody tr th {\n",
              "        vertical-align: top;\n",
              "    }\n",
              "\n",
              "    .dataframe thead th {\n",
              "        text-align: right;\n",
              "    }\n",
              "</style>\n",
              "<table border=\"1\" class=\"dataframe\">\n",
              "  <thead>\n",
              "    <tr style=\"text-align: right;\">\n",
              "      <th></th>\n",
              "      <th>Area_Service</th>\n",
              "      <th>Hospital County</th>\n",
              "      <th>Hospital Id</th>\n",
              "      <th>Age</th>\n",
              "      <th>Gender</th>\n",
              "      <th>Cultural_group</th>\n",
              "      <th>ethnicity</th>\n",
              "      <th>Days_spend_hsptl</th>\n",
              "      <th>Admission_type</th>\n",
              "      <th>Home or self care,</th>\n",
              "      <th>ccs_diagnosis_code</th>\n",
              "      <th>ccs_procedure_code</th>\n",
              "      <th>apr_drg_description</th>\n",
              "      <th>Code_illness</th>\n",
              "      <th>Mortality risk</th>\n",
              "      <th>Surg_Description</th>\n",
              "      <th>Weight_baby</th>\n",
              "      <th>Abortion</th>\n",
              "      <th>Emergency dept_yes/No</th>\n",
              "      <th>Tot_charg</th>\n",
              "      <th>Tot_cost</th>\n",
              "      <th>ratio_of_total_costs_to_total_charges</th>\n",
              "      <th>Result</th>\n",
              "      <th>Payment_Typology</th>\n",
              "    </tr>\n",
              "  </thead>\n",
              "  <tbody>\n",
              "    <tr>\n",
              "      <th>0</th>\n",
              "      <td>Western NY</td>\n",
              "      <td>Allegany</td>\n",
              "      <td>37.0</td>\n",
              "      <td>30 to 49</td>\n",
              "      <td>F</td>\n",
              "      <td>White</td>\n",
              "      <td>Not Span/Hispanic</td>\n",
              "      <td>4</td>\n",
              "      <td>Elective</td>\n",
              "      <td>Home or Self Care</td>\n",
              "      <td>122</td>\n",
              "      <td>0</td>\n",
              "      <td>Other pneumonia</td>\n",
              "      <td>1</td>\n",
              "      <td>1.0</td>\n",
              "      <td>Medical</td>\n",
              "      <td>0</td>\n",
              "      <td>N</td>\n",
              "      <td>Y</td>\n",
              "      <td>5511.95</td>\n",
              "      <td>5582.49</td>\n",
              "      <td>1.012798</td>\n",
              "      <td>1</td>\n",
              "      <td>1</td>\n",
              "    </tr>\n",
              "    <tr>\n",
              "      <th>1</th>\n",
              "      <td>Western NY</td>\n",
              "      <td>Allegany</td>\n",
              "      <td>37.0</td>\n",
              "      <td>70 or Older</td>\n",
              "      <td>F</td>\n",
              "      <td>White</td>\n",
              "      <td>Not Span/Hispanic</td>\n",
              "      <td>4</td>\n",
              "      <td>Urgent</td>\n",
              "      <td>Short-term Hospital</td>\n",
              "      <td>197</td>\n",
              "      <td>0</td>\n",
              "      <td>Cellulitis &amp; other skin infections</td>\n",
              "      <td>3</td>\n",
              "      <td>2.0</td>\n",
              "      <td>Medical</td>\n",
              "      <td>0</td>\n",
              "      <td>N</td>\n",
              "      <td>Y</td>\n",
              "      <td>4783.20</td>\n",
              "      <td>5162.82</td>\n",
              "      <td>1.079365</td>\n",
              "      <td>1</td>\n",
              "      <td>1</td>\n",
              "    </tr>\n",
              "    <tr>\n",
              "      <th>2</th>\n",
              "      <td>Western NY</td>\n",
              "      <td>Allegany</td>\n",
              "      <td>37.0</td>\n",
              "      <td>30 to 49</td>\n",
              "      <td>F</td>\n",
              "      <td>White</td>\n",
              "      <td>Not Span/Hispanic</td>\n",
              "      <td>3</td>\n",
              "      <td>Urgent</td>\n",
              "      <td>Home or Self Care</td>\n",
              "      <td>122</td>\n",
              "      <td>0</td>\n",
              "      <td>Other pneumonia</td>\n",
              "      <td>1</td>\n",
              "      <td>1.0</td>\n",
              "      <td>Medical</td>\n",
              "      <td>0</td>\n",
              "      <td>N</td>\n",
              "      <td>Y</td>\n",
              "      <td>3829.15</td>\n",
              "      <td>4056.52</td>\n",
              "      <td>1.059379</td>\n",
              "      <td>1</td>\n",
              "      <td>1</td>\n",
              "    </tr>\n",
              "    <tr>\n",
              "      <th>3</th>\n",
              "      <td>Western NY</td>\n",
              "      <td>Allegany</td>\n",
              "      <td>37.0</td>\n",
              "      <td>0 to 17</td>\n",
              "      <td>F</td>\n",
              "      <td>White</td>\n",
              "      <td>Not Span/Hispanic</td>\n",
              "      <td>1</td>\n",
              "      <td>Urgent</td>\n",
              "      <td>Home or Self Care</td>\n",
              "      <td>122</td>\n",
              "      <td>0</td>\n",
              "      <td>Other pneumonia</td>\n",
              "      <td>1</td>\n",
              "      <td>1.0</td>\n",
              "      <td>Medical</td>\n",
              "      <td>0</td>\n",
              "      <td>N</td>\n",
              "      <td>Y</td>\n",
              "      <td>1108.20</td>\n",
              "      <td>1644.75</td>\n",
              "      <td>1.484167</td>\n",
              "      <td>0</td>\n",
              "      <td>1</td>\n",
              "    </tr>\n",
              "    <tr>\n",
              "      <th>4</th>\n",
              "      <td>Western NY</td>\n",
              "      <td>Allegany</td>\n",
              "      <td>37.0</td>\n",
              "      <td>70 or Older</td>\n",
              "      <td>F</td>\n",
              "      <td>White</td>\n",
              "      <td>Not Span/Hispanic</td>\n",
              "      <td>3</td>\n",
              "      <td>Elective</td>\n",
              "      <td>Home or Self Care</td>\n",
              "      <td>122</td>\n",
              "      <td>0</td>\n",
              "      <td>Other pneumonia</td>\n",
              "      <td>2</td>\n",
              "      <td>3.0</td>\n",
              "      <td>Medical</td>\n",
              "      <td>0</td>\n",
              "      <td>N</td>\n",
              "      <td>Y</td>\n",
              "      <td>3418.18</td>\n",
              "      <td>3370.87</td>\n",
              "      <td>0.986161</td>\n",
              "      <td>1</td>\n",
              "      <td>1</td>\n",
              "    </tr>\n",
              "  </tbody>\n",
              "</table>\n",
              "</div>"
            ],
            "text/plain": [
              "  Area_Service Hospital County  ...  Result Payment_Typology\n",
              "0   Western NY        Allegany  ...       1                1\n",
              "1   Western NY        Allegany  ...       1                1\n",
              "2   Western NY        Allegany  ...       1                1\n",
              "3   Western NY        Allegany  ...       0                1\n",
              "4   Western NY        Allegany  ...       1                1\n",
              "\n",
              "[5 rows x 24 columns]"
            ]
          },
          "metadata": {
            "tags": []
          },
          "execution_count": 4
        }
      ]
    },
    {
      "cell_type": "code",
      "metadata": {
        "id": "gU9rh9lJgRM9"
      },
      "source": [
        "#The method .copy() is used here so that any changes made in new DataFrame don't get reflected in the original one\n",
        "data1=data.copy()"
      ],
      "execution_count": 5,
      "outputs": []
    },
    {
      "cell_type": "code",
      "metadata": {
        "colab": {
          "base_uri": "https://localhost:8080/"
        },
        "id": "SOX64gaNgRYo",
        "outputId": "aa555c59-d928-49c7-d1a0-9ddfe6a2c91d"
      },
      "source": [
        "data1.info()"
      ],
      "execution_count": 6,
      "outputs": [
        {
          "output_type": "stream",
          "text": [
            "<class 'pandas.core.frame.DataFrame'>\n",
            "RangeIndex: 1048575 entries, 0 to 1048574\n",
            "Data columns (total 24 columns):\n",
            " #   Column                                 Non-Null Count    Dtype  \n",
            "---  ------                                 --------------    -----  \n",
            " 0   Area_Service                           1046119 non-null  object \n",
            " 1   Hospital County                        1046119 non-null  object \n",
            " 2   Hospital Id                            1046119 non-null  float64\n",
            " 3   Age                                    1048575 non-null  object \n",
            " 4   Gender                                 1048575 non-null  object \n",
            " 5   Cultural_group                         1048575 non-null  object \n",
            " 6   ethnicity                              1048575 non-null  object \n",
            " 7   Days_spend_hsptl                       1048575 non-null  object \n",
            " 8   Admission_type                         1048575 non-null  object \n",
            " 9   Home or self care,                     1048575 non-null  object \n",
            " 10  ccs_diagnosis_code                     1048575 non-null  int64  \n",
            " 11  ccs_procedure_code                     1048575 non-null  int64  \n",
            " 12  apr_drg_description                    1048575 non-null  object \n",
            " 13  Code_illness                           1048575 non-null  int64  \n",
            " 14  Mortality risk                         1048533 non-null  float64\n",
            " 15  Surg_Description                       1048575 non-null  object \n",
            " 16  Weight_baby                            1048575 non-null  int64  \n",
            " 17  Abortion                               1048575 non-null  object \n",
            " 18  Emergency dept_yes/No                  1048575 non-null  object \n",
            " 19  Tot_charg                              1048575 non-null  float64\n",
            " 20  Tot_cost                               1048575 non-null  float64\n",
            " 21  ratio_of_total_costs_to_total_charges  1048575 non-null  float64\n",
            " 22  Result                                 1048575 non-null  int64  \n",
            " 23  Payment_Typology                       1048575 non-null  int64  \n",
            "dtypes: float64(5), int64(6), object(13)\n",
            "memory usage: 192.0+ MB\n"
          ],
          "name": "stdout"
        }
      ]
    },
    {
      "cell_type": "code",
      "metadata": {
        "colab": {
          "base_uri": "https://localhost:8080/"
        },
        "id": "vDP_ZVuLhM2D",
        "outputId": "1e889e33-0622-4ff3-e78e-533b6e977047"
      },
      "source": [
        "data1.shape"
      ],
      "execution_count": 7,
      "outputs": [
        {
          "output_type": "execute_result",
          "data": {
            "text/plain": [
              "(1048575, 24)"
            ]
          },
          "metadata": {
            "tags": []
          },
          "execution_count": 7
        }
      ]
    },
    {
      "cell_type": "code",
      "metadata": {
        "colab": {
          "base_uri": "https://localhost:8080/"
        },
        "id": "ErdLtRZLhMvJ",
        "outputId": "8b4f8028-b8a8-4fde-d03e-6352a6497250"
      },
      "source": [
        "data1.isna().sum()"
      ],
      "execution_count": 8,
      "outputs": [
        {
          "output_type": "execute_result",
          "data": {
            "text/plain": [
              "Area_Service                             2456\n",
              "Hospital County                          2456\n",
              "Hospital Id                              2456\n",
              "Age                                         0\n",
              "Gender                                      0\n",
              "Cultural_group                              0\n",
              "ethnicity                                   0\n",
              "Days_spend_hsptl                            0\n",
              "Admission_type                              0\n",
              "Home or self care,                          0\n",
              "ccs_diagnosis_code                          0\n",
              "ccs_procedure_code                          0\n",
              "apr_drg_description                         0\n",
              "Code_illness                                0\n",
              "Mortality risk                             42\n",
              "Surg_Description                            0\n",
              "Weight_baby                                 0\n",
              "Abortion                                    0\n",
              "Emergency dept_yes/No                       0\n",
              "Tot_charg                                   0\n",
              "Tot_cost                                    0\n",
              "ratio_of_total_costs_to_total_charges       0\n",
              "Result                                      0\n",
              "Payment_Typology                            0\n",
              "dtype: int64"
            ]
          },
          "metadata": {
            "tags": []
          },
          "execution_count": 8
        }
      ]
    },
    {
      "cell_type": "code",
      "metadata": {
        "id": "WtGSZRezhMkC"
      },
      "source": [
        "data1[\"Area_Service\"].fillna('Hudson Valley',inplace=True) # data['Area_Service'].mode() = Hudson Valley\n",
        "data1[\"Hospital Id\"].fillna(413.0,inplace=True) # data['Hospital Id'].mode() = 413.0\n",
        "data1[\"Hospital County\"].fillna('Erie',inplace=True) # data['Hospital County'].mode() = Erie\n",
        "data1[\"Mortality risk\"].fillna(1.0,inplace=True) # data['Mortality risk'].mode() = 1.0"
      ],
      "execution_count": 9,
      "outputs": []
    },
    {
      "cell_type": "code",
      "metadata": {
        "colab": {
          "base_uri": "https://localhost:8080/"
        },
        "id": "1MZ_LkJ6hv2B",
        "outputId": "a449d348-7cb5-471e-cf68-1c380f8dd2b4"
      },
      "source": [
        "data1.isna().sum() # it is clear that the data is cleaned"
      ],
      "execution_count": 10,
      "outputs": [
        {
          "output_type": "execute_result",
          "data": {
            "text/plain": [
              "Area_Service                             0\n",
              "Hospital County                          0\n",
              "Hospital Id                              0\n",
              "Age                                      0\n",
              "Gender                                   0\n",
              "Cultural_group                           0\n",
              "ethnicity                                0\n",
              "Days_spend_hsptl                         0\n",
              "Admission_type                           0\n",
              "Home or self care,                       0\n",
              "ccs_diagnosis_code                       0\n",
              "ccs_procedure_code                       0\n",
              "apr_drg_description                      0\n",
              "Code_illness                             0\n",
              "Mortality risk                           0\n",
              "Surg_Description                         0\n",
              "Weight_baby                              0\n",
              "Abortion                                 0\n",
              "Emergency dept_yes/No                    0\n",
              "Tot_charg                                0\n",
              "Tot_cost                                 0\n",
              "ratio_of_total_costs_to_total_charges    0\n",
              "Result                                   0\n",
              "Payment_Typology                         0\n",
              "dtype: int64"
            ]
          },
          "metadata": {
            "tags": []
          },
          "execution_count": 10
        }
      ]
    },
    {
      "cell_type": "code",
      "metadata": {
        "colab": {
          "base_uri": "https://localhost:8080/",
          "height": 1000
        },
        "id": "DTsQZ8zih61h",
        "outputId": "741ae2f0-0620-416c-cb1b-320892c424ff"
      },
      "source": [
        "#Print the duplicated rows\n",
        "data1[data1.duplicated()]"
      ],
      "execution_count": 11,
      "outputs": [
        {
          "output_type": "execute_result",
          "data": {
            "text/html": [
              "<div>\n",
              "<style scoped>\n",
              "    .dataframe tbody tr th:only-of-type {\n",
              "        vertical-align: middle;\n",
              "    }\n",
              "\n",
              "    .dataframe tbody tr th {\n",
              "        vertical-align: top;\n",
              "    }\n",
              "\n",
              "    .dataframe thead th {\n",
              "        text-align: right;\n",
              "    }\n",
              "</style>\n",
              "<table border=\"1\" class=\"dataframe\">\n",
              "  <thead>\n",
              "    <tr style=\"text-align: right;\">\n",
              "      <th></th>\n",
              "      <th>Area_Service</th>\n",
              "      <th>Hospital County</th>\n",
              "      <th>Hospital Id</th>\n",
              "      <th>Age</th>\n",
              "      <th>Gender</th>\n",
              "      <th>Cultural_group</th>\n",
              "      <th>ethnicity</th>\n",
              "      <th>Days_spend_hsptl</th>\n",
              "      <th>Admission_type</th>\n",
              "      <th>Home or self care,</th>\n",
              "      <th>ccs_diagnosis_code</th>\n",
              "      <th>ccs_procedure_code</th>\n",
              "      <th>apr_drg_description</th>\n",
              "      <th>Code_illness</th>\n",
              "      <th>Mortality risk</th>\n",
              "      <th>Surg_Description</th>\n",
              "      <th>Weight_baby</th>\n",
              "      <th>Abortion</th>\n",
              "      <th>Emergency dept_yes/No</th>\n",
              "      <th>Tot_charg</th>\n",
              "      <th>Tot_cost</th>\n",
              "      <th>ratio_of_total_costs_to_total_charges</th>\n",
              "      <th>Result</th>\n",
              "      <th>Payment_Typology</th>\n",
              "    </tr>\n",
              "  </thead>\n",
              "  <tbody>\n",
              "    <tr>\n",
              "      <th>1125</th>\n",
              "      <td>Western NY</td>\n",
              "      <td>Allegany</td>\n",
              "      <td>39.0</td>\n",
              "      <td>0 to 17</td>\n",
              "      <td>M</td>\n",
              "      <td>White</td>\n",
              "      <td>Not Span/Hispanic</td>\n",
              "      <td>2</td>\n",
              "      <td>Newborn</td>\n",
              "      <td>Home or Self Care</td>\n",
              "      <td>218</td>\n",
              "      <td>115</td>\n",
              "      <td>Neonate birthwt &gt;2499g, normal newborn or neon...</td>\n",
              "      <td>1</td>\n",
              "      <td>1.0</td>\n",
              "      <td>Medical</td>\n",
              "      <td>3700</td>\n",
              "      <td>N</td>\n",
              "      <td>N</td>\n",
              "      <td>1678.75</td>\n",
              "      <td>737.21</td>\n",
              "      <td>0.439141</td>\n",
              "      <td>1</td>\n",
              "      <td>1</td>\n",
              "    </tr>\n",
              "    <tr>\n",
              "      <th>3086</th>\n",
              "      <td>Western NY</td>\n",
              "      <td>Cattaraugus</td>\n",
              "      <td>66.0</td>\n",
              "      <td>0 to 17</td>\n",
              "      <td>M</td>\n",
              "      <td>White</td>\n",
              "      <td>Not Span/Hispanic</td>\n",
              "      <td>2</td>\n",
              "      <td>Newborn</td>\n",
              "      <td>Home or Self Care</td>\n",
              "      <td>218</td>\n",
              "      <td>115</td>\n",
              "      <td>Neonate birthwt &gt;2499g, normal newborn or neon...</td>\n",
              "      <td>1</td>\n",
              "      <td>1.0</td>\n",
              "      <td>Medical</td>\n",
              "      <td>3600</td>\n",
              "      <td>N</td>\n",
              "      <td>N</td>\n",
              "      <td>1251.50</td>\n",
              "      <td>829.70</td>\n",
              "      <td>0.662961</td>\n",
              "      <td>0</td>\n",
              "      <td>1</td>\n",
              "    </tr>\n",
              "    <tr>\n",
              "      <th>3226</th>\n",
              "      <td>Western NY</td>\n",
              "      <td>Cattaraugus</td>\n",
              "      <td>66.0</td>\n",
              "      <td>0 to 17</td>\n",
              "      <td>F</td>\n",
              "      <td>White</td>\n",
              "      <td>Not Span/Hispanic</td>\n",
              "      <td>2</td>\n",
              "      <td>Newborn</td>\n",
              "      <td>Home or Self Care</td>\n",
              "      <td>218</td>\n",
              "      <td>0</td>\n",
              "      <td>Neonate birthwt &gt;2499g, normal newborn or neon...</td>\n",
              "      <td>1</td>\n",
              "      <td>1.0</td>\n",
              "      <td>Medical</td>\n",
              "      <td>2700</td>\n",
              "      <td>N</td>\n",
              "      <td>N</td>\n",
              "      <td>1150.50</td>\n",
              "      <td>788.65</td>\n",
              "      <td>0.685486</td>\n",
              "      <td>1</td>\n",
              "      <td>1</td>\n",
              "    </tr>\n",
              "    <tr>\n",
              "      <th>4209</th>\n",
              "      <td>Western NY</td>\n",
              "      <td>Cattaraugus</td>\n",
              "      <td>66.0</td>\n",
              "      <td>0 to 17</td>\n",
              "      <td>F</td>\n",
              "      <td>White</td>\n",
              "      <td>Not Span/Hispanic</td>\n",
              "      <td>2</td>\n",
              "      <td>Newborn</td>\n",
              "      <td>Home or Self Care</td>\n",
              "      <td>218</td>\n",
              "      <td>0</td>\n",
              "      <td>Neonate birthwt &gt;2499g, normal newborn or neon...</td>\n",
              "      <td>1</td>\n",
              "      <td>1.0</td>\n",
              "      <td>Medical</td>\n",
              "      <td>2700</td>\n",
              "      <td>N</td>\n",
              "      <td>N</td>\n",
              "      <td>1150.50</td>\n",
              "      <td>788.65</td>\n",
              "      <td>0.685486</td>\n",
              "      <td>1</td>\n",
              "      <td>1</td>\n",
              "    </tr>\n",
              "    <tr>\n",
              "      <th>4234</th>\n",
              "      <td>Western NY</td>\n",
              "      <td>Cattaraugus</td>\n",
              "      <td>66.0</td>\n",
              "      <td>0 to 17</td>\n",
              "      <td>F</td>\n",
              "      <td>White</td>\n",
              "      <td>Not Span/Hispanic</td>\n",
              "      <td>2</td>\n",
              "      <td>Newborn</td>\n",
              "      <td>Home or Self Care</td>\n",
              "      <td>218</td>\n",
              "      <td>0</td>\n",
              "      <td>Neonate birthwt &gt;2499g, normal newborn or neon...</td>\n",
              "      <td>1</td>\n",
              "      <td>1.0</td>\n",
              "      <td>Medical</td>\n",
              "      <td>2800</td>\n",
              "      <td>N</td>\n",
              "      <td>N</td>\n",
              "      <td>1150.50</td>\n",
              "      <td>788.65</td>\n",
              "      <td>0.685486</td>\n",
              "      <td>0</td>\n",
              "      <td>1</td>\n",
              "    </tr>\n",
              "    <tr>\n",
              "      <th>...</th>\n",
              "      <td>...</td>\n",
              "      <td>...</td>\n",
              "      <td>...</td>\n",
              "      <td>...</td>\n",
              "      <td>...</td>\n",
              "      <td>...</td>\n",
              "      <td>...</td>\n",
              "      <td>...</td>\n",
              "      <td>...</td>\n",
              "      <td>...</td>\n",
              "      <td>...</td>\n",
              "      <td>...</td>\n",
              "      <td>...</td>\n",
              "      <td>...</td>\n",
              "      <td>...</td>\n",
              "      <td>...</td>\n",
              "      <td>...</td>\n",
              "      <td>...</td>\n",
              "      <td>...</td>\n",
              "      <td>...</td>\n",
              "      <td>...</td>\n",
              "      <td>...</td>\n",
              "      <td>...</td>\n",
              "      <td>...</td>\n",
              "    </tr>\n",
              "    <tr>\n",
              "      <th>1015327</th>\n",
              "      <td>New York City</td>\n",
              "      <td>Bronx</td>\n",
              "      <td>1168.0</td>\n",
              "      <td>0 to 17</td>\n",
              "      <td>F</td>\n",
              "      <td>Other Race</td>\n",
              "      <td>Not Span/Hispanic</td>\n",
              "      <td>2</td>\n",
              "      <td>Newborn</td>\n",
              "      <td>Home or Self Care</td>\n",
              "      <td>218</td>\n",
              "      <td>228</td>\n",
              "      <td>Neonate birthwt &gt;2499g, normal newborn or neon...</td>\n",
              "      <td>1</td>\n",
              "      <td>1.0</td>\n",
              "      <td>Medical</td>\n",
              "      <td>2900</td>\n",
              "      <td>N</td>\n",
              "      <td>N</td>\n",
              "      <td>5955.85</td>\n",
              "      <td>1303.62</td>\n",
              "      <td>0.218881</td>\n",
              "      <td>1</td>\n",
              "      <td>3</td>\n",
              "    </tr>\n",
              "    <tr>\n",
              "      <th>1025529</th>\n",
              "      <td>New York City</td>\n",
              "      <td>Bronx</td>\n",
              "      <td>1169.0</td>\n",
              "      <td>0 to 17</td>\n",
              "      <td>F</td>\n",
              "      <td>Other Race</td>\n",
              "      <td>Spanish/Hispanic</td>\n",
              "      <td>2</td>\n",
              "      <td>Elective</td>\n",
              "      <td>Home or Self Care</td>\n",
              "      <td>83</td>\n",
              "      <td>227</td>\n",
              "      <td>Seizure</td>\n",
              "      <td>2</td>\n",
              "      <td>1.0</td>\n",
              "      <td>Medical</td>\n",
              "      <td>0</td>\n",
              "      <td>N</td>\n",
              "      <td>N</td>\n",
              "      <td>12500.00</td>\n",
              "      <td>2960.11</td>\n",
              "      <td>0.236809</td>\n",
              "      <td>1</td>\n",
              "      <td>3</td>\n",
              "    </tr>\n",
              "    <tr>\n",
              "      <th>1028997</th>\n",
              "      <td>New York City</td>\n",
              "      <td>Bronx</td>\n",
              "      <td>1169.0</td>\n",
              "      <td>0 to 17</td>\n",
              "      <td>F</td>\n",
              "      <td>Other Race</td>\n",
              "      <td>Spanish/Hispanic</td>\n",
              "      <td>2</td>\n",
              "      <td>Elective</td>\n",
              "      <td>Home or Self Care</td>\n",
              "      <td>83</td>\n",
              "      <td>227</td>\n",
              "      <td>Seizure</td>\n",
              "      <td>1</td>\n",
              "      <td>1.0</td>\n",
              "      <td>Medical</td>\n",
              "      <td>0</td>\n",
              "      <td>N</td>\n",
              "      <td>N</td>\n",
              "      <td>12557.00</td>\n",
              "      <td>2963.40</td>\n",
              "      <td>0.235996</td>\n",
              "      <td>1</td>\n",
              "      <td>2</td>\n",
              "    </tr>\n",
              "    <tr>\n",
              "      <th>1035973</th>\n",
              "      <td>New York City</td>\n",
              "      <td>Bronx</td>\n",
              "      <td>1169.0</td>\n",
              "      <td>0 to 17</td>\n",
              "      <td>F</td>\n",
              "      <td>Other Race</td>\n",
              "      <td>Spanish/Hispanic</td>\n",
              "      <td>2</td>\n",
              "      <td>Elective</td>\n",
              "      <td>Home or Self Care</td>\n",
              "      <td>83</td>\n",
              "      <td>227</td>\n",
              "      <td>Seizure</td>\n",
              "      <td>2</td>\n",
              "      <td>1.0</td>\n",
              "      <td>Medical</td>\n",
              "      <td>0</td>\n",
              "      <td>N</td>\n",
              "      <td>N</td>\n",
              "      <td>12500.00</td>\n",
              "      <td>2960.11</td>\n",
              "      <td>0.236809</td>\n",
              "      <td>1</td>\n",
              "      <td>3</td>\n",
              "    </tr>\n",
              "    <tr>\n",
              "      <th>1043713</th>\n",
              "      <td>New York City</td>\n",
              "      <td>Bronx</td>\n",
              "      <td>1169.0</td>\n",
              "      <td>0 to 17</td>\n",
              "      <td>M</td>\n",
              "      <td>Other Race</td>\n",
              "      <td>Spanish/Hispanic</td>\n",
              "      <td>10</td>\n",
              "      <td>Emergency</td>\n",
              "      <td>Home or Self Care</td>\n",
              "      <td>135</td>\n",
              "      <td>0</td>\n",
              "      <td>Other gastroenteritis, nausa &amp; vomiting</td>\n",
              "      <td>3</td>\n",
              "      <td>3.0</td>\n",
              "      <td>Medical</td>\n",
              "      <td>0</td>\n",
              "      <td>N</td>\n",
              "      <td>Y</td>\n",
              "      <td>65223.50</td>\n",
              "      <td>19853.07</td>\n",
              "      <td>0.304385</td>\n",
              "      <td>0</td>\n",
              "      <td>3</td>\n",
              "    </tr>\n",
              "  </tbody>\n",
              "</table>\n",
              "<p>4814 rows × 24 columns</p>\n",
              "</div>"
            ],
            "text/plain": [
              "          Area_Service Hospital County  ...  Result Payment_Typology\n",
              "1125        Western NY        Allegany  ...       1                1\n",
              "3086        Western NY     Cattaraugus  ...       0                1\n",
              "3226        Western NY     Cattaraugus  ...       1                1\n",
              "4209        Western NY     Cattaraugus  ...       1                1\n",
              "4234        Western NY     Cattaraugus  ...       0                1\n",
              "...                ...             ...  ...     ...              ...\n",
              "1015327  New York City           Bronx  ...       1                3\n",
              "1025529  New York City           Bronx  ...       1                3\n",
              "1028997  New York City           Bronx  ...       1                2\n",
              "1035973  New York City           Bronx  ...       1                3\n",
              "1043713  New York City           Bronx  ...       0                3\n",
              "\n",
              "[4814 rows x 24 columns]"
            ]
          },
          "metadata": {
            "tags": []
          },
          "execution_count": 11
        }
      ]
    },
    {
      "cell_type": "code",
      "metadata": {
        "colab": {
          "base_uri": "https://localhost:8080/"
        },
        "id": "dCn7UD0th6x9",
        "outputId": "1cf7a8be-1f72-4f68-91f1-1d6f6c35106d"
      },
      "source": [
        "#Count of duplicated rows\n",
        "data[data.duplicated()].shape"
      ],
      "execution_count": 12,
      "outputs": [
        {
          "output_type": "execute_result",
          "data": {
            "text/plain": [
              "(4814, 24)"
            ]
          },
          "metadata": {
            "tags": []
          },
          "execution_count": 12
        }
      ]
    },
    {
      "cell_type": "code",
      "metadata": {
        "id": "ERZ7DltJiBmP"
      },
      "source": [
        "data_cleaned=data1.drop_duplicates()"
      ],
      "execution_count": 13,
      "outputs": []
    },
    {
      "cell_type": "code",
      "metadata": {
        "colab": {
          "base_uri": "https://localhost:8080/"
        },
        "id": "FivyqJhDiBjB",
        "outputId": "d19c554f-edd6-44a9-80db-ac31cc619282"
      },
      "source": [
        "data_cleaned.shape"
      ],
      "execution_count": 14,
      "outputs": [
        {
          "output_type": "execute_result",
          "data": {
            "text/plain": [
              "(1043761, 24)"
            ]
          },
          "metadata": {
            "tags": []
          },
          "execution_count": 14
        }
      ]
    },
    {
      "cell_type": "code",
      "metadata": {
        "colab": {
          "base_uri": "https://localhost:8080/"
        },
        "id": "XppqBymfiBf0",
        "outputId": "a7764d87-1ebf-4471-826b-675162744b02"
      },
      "source": [
        "Q1 = data_cleaned.quantile(0.25)\n",
        "Q3 = data_cleaned.quantile(0.75)\n",
        "IQR = Q3 - Q1\n",
        "print(IQR)"
      ],
      "execution_count": 15,
      "outputs": [
        {
          "output_type": "stream",
          "text": [
            "Hospital Id                                764.000000\n",
            "ccs_diagnosis_code                         110.000000\n",
            "ccs_procedure_code                         172.000000\n",
            "Code_illness                                 2.000000\n",
            "Mortality risk                               2.000000\n",
            "Weight_baby                                  0.000000\n",
            "Tot_charg                                21768.750000\n",
            "Tot_cost                                  8115.200000\n",
            "ratio_of_total_costs_to_total_charges        0.205405\n",
            "Result                                       1.000000\n",
            "Payment_Typology                             2.000000\n",
            "dtype: float64\n"
          ],
          "name": "stdout"
        }
      ]
    },
    {
      "cell_type": "code",
      "metadata": {
        "id": "gf4oOe0ciav1"
      },
      "source": [
        "data_cleaned = data_cleaned[~((data_cleaned < (Q1 - 1.5 * IQR)) |(data_cleaned > (Q3 + 1.5 * IQR))).any(axis=1)]"
      ],
      "execution_count": 16,
      "outputs": []
    },
    {
      "cell_type": "code",
      "metadata": {
        "colab": {
          "base_uri": "https://localhost:8080/"
        },
        "id": "hEOOeDUgiar4",
        "outputId": "66ce9ad5-8901-462b-e218-c9d79c81b8e5"
      },
      "source": [
        "len(data_cleaned['Days_spend_hsptl'].unique())"
      ],
      "execution_count": 17,
      "outputs": [
        {
          "output_type": "execute_result",
          "data": {
            "text/plain": [
              "57"
            ]
          },
          "metadata": {
            "tags": []
          },
          "execution_count": 17
        }
      ]
    },
    {
      "cell_type": "code",
      "metadata": {
        "colab": {
          "base_uri": "https://localhost:8080/"
        },
        "id": "I2wZCBGqiaiN",
        "outputId": "8925ceaf-25c7-47f3-b0a9-c280fb8d4175"
      },
      "source": [
        "data_cleaned['Days_spend_hsptl'].unique()"
      ],
      "execution_count": 18,
      "outputs": [
        {
          "output_type": "execute_result",
          "data": {
            "text/plain": [
              "array(['3', '1', '2', '14', '5', '4', '9', '8', '10', '6', '12', '7',\n",
              "       '11', '13', '16', '15', '18', '23', '21', '22', '19', '24', '20',\n",
              "       '17', '26', '58', '30', '27', '34', '70', '31', '25', '29', '32',\n",
              "       '28', '33', '36', '37', '35', '120 +', '48', '60', '97', '50',\n",
              "       '66', '64', '53', '56', '38', '41', '40', '46', '51', '44', '43',\n",
              "       '39', '42'], dtype=object)"
            ]
          },
          "metadata": {
            "tags": []
          },
          "execution_count": 18
        }
      ]
    },
    {
      "cell_type": "code",
      "metadata": {
        "id": "tbqQKg7mikhH"
      },
      "source": [
        "data_cleaned['Days_spend_hsptl'].replace(to_replace='120 +',value='121',inplace=True)"
      ],
      "execution_count": 19,
      "outputs": []
    },
    {
      "cell_type": "code",
      "metadata": {
        "id": "AxL66L5qikeR"
      },
      "source": [
        "data_cleaned['Days_spend_hsptl']=data_cleaned['Days_spend_hsptl'].astype('int64')"
      ],
      "execution_count": 20,
      "outputs": []
    },
    {
      "cell_type": "code",
      "metadata": {
        "colab": {
          "base_uri": "https://localhost:8080/"
        },
        "id": "MHYmwEs3ikbR",
        "outputId": "249c1094-9e67-4b95-e879-1309b8610433"
      },
      "source": [
        "data_cleaned['Days_spend_hsptl'].unique()"
      ],
      "execution_count": 21,
      "outputs": [
        {
          "output_type": "execute_result",
          "data": {
            "text/plain": [
              "array([  3,   1,   2,  14,   5,   4,   9,   8,  10,   6,  12,   7,  11,\n",
              "        13,  16,  15,  18,  23,  21,  22,  19,  24,  20,  17,  26,  58,\n",
              "        30,  27,  34,  70,  31,  25,  29,  32,  28,  33,  36,  37,  35,\n",
              "       121,  48,  60,  97,  50,  66,  64,  53,  56,  38,  41,  40,  46,\n",
              "        51,  44,  43,  39,  42])"
            ]
          },
          "metadata": {
            "tags": []
          },
          "execution_count": 21
        }
      ]
    },
    {
      "cell_type": "code",
      "metadata": {
        "id": "eR_aHq5CikSu"
      },
      "source": [
        "labelencoder = LabelEncoder()\n",
        "data_cleaned.iloc[:,0] = labelencoder.fit_transform(data_cleaned.iloc[:,0])\n",
        "data_cleaned.iloc[:,1] = labelencoder.fit_transform(data_cleaned.iloc[:,1])\n",
        "data_cleaned.iloc[:,3] = labelencoder.fit_transform(data_cleaned.iloc[:,3])\n",
        "data_cleaned.iloc[:,4] = labelencoder.fit_transform(data_cleaned.iloc[:,4])\n",
        "data_cleaned.iloc[:,5] = labelencoder.fit_transform(data_cleaned.iloc[:,5])\n",
        "data_cleaned.iloc[:,6] = labelencoder.fit_transform(data_cleaned.iloc[:,6])\n",
        "data_cleaned.iloc[:,8] = labelencoder.fit_transform(data_cleaned.iloc[:,8])\n",
        "data_cleaned.iloc[:,9] = labelencoder.fit_transform(data_cleaned.iloc[:,9])\n",
        "data_cleaned.iloc[:,12] = labelencoder.fit_transform(data_cleaned.iloc[:,12])\n",
        "data_cleaned.iloc[:,15] = labelencoder.fit_transform(data_cleaned.iloc[:,15])\n",
        "data_cleaned.iloc[:,17] = labelencoder.fit_transform(data_cleaned.iloc[:,17])\n",
        "data_cleaned.iloc[:,18] = labelencoder.fit_transform(data_cleaned.iloc[:,18])"
      ],
      "execution_count": 22,
      "outputs": []
    },
    {
      "cell_type": "code",
      "metadata": {
        "id": "s9-HumQnikPv"
      },
      "source": [
        "X=data_cleaned.drop(['Result'],axis=1)\n",
        "Y= data_cleaned.Result "
      ],
      "execution_count": 23,
      "outputs": []
    },
    {
      "cell_type": "code",
      "metadata": {
        "colab": {
          "base_uri": "https://localhost:8080/"
        },
        "id": "b2FQBBYBU-Sm",
        "outputId": "827f4b2b-f197-43f4-d903-85d94571d3cb"
      },
      "source": [
        "from sklearn.tree import  DecisionTreeClassifier\n",
        "# feature extraction\n",
        "model = DecisionTreeClassifier()\n",
        "model.fit(X, Y)\n",
        "print(model.feature_importances_)"
      ],
      "execution_count": 24,
      "outputs": [
        {
          "output_type": "stream",
          "text": [
            "[1.43087897e-02 1.59763762e-02 3.85519436e-02 3.21488154e-02\n",
            " 1.72981124e-02 1.82042203e-02 1.01252167e-02 4.16140583e-02\n",
            " 1.40949578e-02 2.85234495e-02 6.64664074e-02 4.68287611e-02\n",
            " 5.44947555e-02 2.87294947e-02 1.63267887e-02 3.45795634e-03\n",
            " 0.00000000e+00 1.65158649e-05 7.92312397e-03 1.65603755e-01\n",
            " 1.67770953e-01 1.85023308e-01 2.65122405e-02]\n"
          ],
          "name": "stdout"
        }
      ]
    },
    {
      "cell_type": "code",
      "metadata": {
        "colab": {
          "base_uri": "https://localhost:8080/",
          "height": 265
        },
        "id": "WL8gSev0VKH-",
        "outputId": "cd17045f-47b2-424d-cfa8-bdce645d3d42"
      },
      "source": [
        "#plot graph of feature importances for better visualization\n",
        "feat_importances = pd.Series(model.feature_importances_, index=X.columns)\n",
        "feat_importances.nlargest(24).plot(kind='barh')\n",
        "plt.show()"
      ],
      "execution_count": 25,
      "outputs": [
        {
          "output_type": "display_data",
          "data": {
            "image/png": "[encoded data removed]",
            "text/plain": [
              "<Figure size 432x288 with 1 Axes>"
            ]
          },
          "metadata": {
            "tags": [],
            "needs_background": "light"
          }
        }
      ]
    },
    {
      "cell_type": "code",
      "metadata": {
        "id": "LAtUKIVqi-ip"
      },
      "source": [
        "data_cleaned.drop(['Abortion','Surg_Description','Emergency dept_yes/No','ethnicity','Admission_type','Area_Service','Weight_baby','Hospital County','Gender','Cultural_group','Payment_Typology','Mortality risk'],inplace=True,axis=1)"
      ],
      "execution_count": 26,
      "outputs": []
    },
    {
      "cell_type": "code",
      "metadata": {
        "id": "UrFJBJNrjEZB"
      },
      "source": [
        "X1 = data_cleaned.drop(['Result'],axis=1)\n",
        "Y= data_cleaned.Result "
      ],
      "execution_count": 27,
      "outputs": []
    },
    {
      "cell_type": "code",
      "metadata": {
        "colab": {
          "base_uri": "https://localhost:8080/"
        },
        "id": "7BmXSej7kEbK",
        "outputId": "65229574-3e37-40a3-cb98-e276e164db5a"
      },
      "source": [
        "from imblearn.combine import SMOTETomek\n",
        "smot = SMOTETomek(ratio=\"auto\",random_state=42)\n",
        "x_smot, y_smot = smot.fit_sample(X1,Y)"
      ],
      "execution_count": 28,
      "outputs": [
        {
          "output_type": "stream",
          "text": [
            "/usr/local/lib/python3.7/dist-packages/sklearn/externals/six.py:31: FutureWarning: The module is deprecated in version 0.21 and will be removed in version 0.23 since we've dropped support for Python 2.7. Please rely on the official version of six (https://pypi.org/project/six/).\n",
            "  \"(https://pypi.org/project/six/).\", FutureWarning)\n",
            "/usr/local/lib/python3.7/dist-packages/sklearn/utils/deprecation.py:144: FutureWarning: The sklearn.neighbors.base module is  deprecated in version 0.22 and will be removed in version 0.24. The corresponding classes / functions should instead be imported from sklearn.neighbors. Anything that cannot be imported from sklearn.neighbors is now part of the private API.\n",
            "  warnings.warn(message, FutureWarning)\n",
            "/usr/local/lib/python3.7/dist-packages/sklearn/utils/deprecation.py:87: FutureWarning: Function safe_indexing is deprecated; safe_indexing is deprecated in version 0.22 and will be removed in version 0.24.\n",
            "  warnings.warn(msg, category=FutureWarning)\n",
            "/usr/local/lib/python3.7/dist-packages/sklearn/utils/deprecation.py:87: FutureWarning: Function safe_indexing is deprecated; safe_indexing is deprecated in version 0.22 and will be removed in version 0.24.\n",
            "  warnings.warn(msg, category=FutureWarning)\n"
          ],
          "name": "stderr"
        }
      ]
    },
    {
      "cell_type": "code",
      "metadata": {
        "colab": {
          "base_uri": "https://localhost:8080/"
        },
        "id": "GEIZf6A5kEY2",
        "outputId": "0ade8268-18df-4cdd-db2a-42ce8b9c6ef5"
      },
      "source": [
        "from collections import Counter\n",
        "print(Counter(Y))\n",
        "print(Counter(y_smot))"
      ],
      "execution_count": 29,
      "outputs": [
        {
          "output_type": "stream",
          "text": [
            "Counter({1: 525966, 0: 175146})\n",
            "Counter({1: 500819, 0: 500819})\n"
          ],
          "name": "stdout"
        }
      ]
    },
    {
      "cell_type": "code",
      "metadata": {
        "id": "R5c3LFTokEWO"
      },
      "source": [
        "# splitting the data into training and testing dataset\n",
        "from sklearn.model_selection import train_test_split\n",
        "x_train,x_test,y_train,y_test=train_test_split(x_smot,y_smot,test_size=0.3) "
      ],
      "execution_count": 30,
      "outputs": []
    },
    {
      "cell_type": "code",
      "metadata": {
        "id": "rJVPxEUElJte"
      },
      "source": [
        "\n",
        "from sklearn.linear_model import LogisticRegression\n",
        "from sklearn.neighbors import KNeighborsClassifier\n",
        "from sklearn.svm import SVC\n",
        "from sklearn.tree import DecisionTreeClassifier\n",
        "from sklearn.ensemble import BaggingClassifier\n",
        "from sklearn.ensemble import AdaBoostClassifier\n",
        "from sklearn.ensemble import RandomForestClassifier\n",
        "from sklearn.metrics import classification_report\n",
        "from sklearn.metrics import roc_auc_score,roc_curve\n",
        "from sklearn.model_selection import StratifiedKFold\n",
        "from sklearn.model_selection import GridSearchCV\n",
        "from scipy.stats import randint\n",
        "from xgboost import XGBClassifier"
      ],
      "execution_count": 31,
      "outputs": []
    },
    {
      "cell_type": "code",
      "metadata": {
        "colab": {
          "base_uri": "https://localhost:8080/"
        },
        "id": "ECcGEgMTkEN-",
        "outputId": "11e61007-14ca-49f9-e836-73b7456ca592"
      },
      "source": [
        "clf1 = DecisionTreeClassifier()\n",
        "params1 = {'max_depth': range(6,11),\n",
        "          'max_features': range(6,11),\n",
        "          'criterion': ['gini','entropy']}\n",
        "cv = StratifiedKFold(n_splits=3,random_state=42)  "
      ],
      "execution_count": 32,
      "outputs": [
        {
          "output_type": "stream",
          "text": [
            "/usr/local/lib/python3.7/dist-packages/sklearn/model_selection/_split.py:296: FutureWarning: Setting a random_state has no effect since shuffle is False. This will raise an error in 0.24. You should leave random_state to its default (None), or set shuffle=True.\n",
            "  FutureWarning\n"
          ],
          "name": "stderr"
        }
      ]
    },
    {
      "cell_type": "code",
      "metadata": {
        "colab": {
          "base_uri": "https://localhost:8080/"
        },
        "id": "XlUmXbjHlDxy",
        "outputId": "fbe326af-2655-4c8c-c25a-632d7f3eadb6"
      },
      "source": [
        "grid = GridSearchCV(clf1,params1,cv=cv,n_jobs=-1,scoring='accuracy',error_score=0)\n",
        "grid.fit(x_train,y_train)"
      ],
      "execution_count": 33,
      "outputs": [
        {
          "output_type": "execute_result",
          "data": {
            "text/plain": [
              "GridSearchCV(cv=StratifiedKFold(n_splits=3, random_state=42, shuffle=False),\n",
              "             error_score=0,\n",
              "             estimator=DecisionTreeClassifier(ccp_alpha=0.0, class_weight=None,\n",
              "                                              criterion='gini', max_depth=None,\n",
              "                                              max_features=None,\n",
              "                                              max_leaf_nodes=None,\n",
              "                                              min_impurity_decrease=0.0,\n",
              "                                              min_impurity_split=None,\n",
              "                                              min_samples_leaf=1,\n",
              "                                              min_samples_split=2,\n",
              "                                              min_weight_fraction_leaf=0.0,\n",
              "                                              presort='deprecated',\n",
              "                                              random_state=None,\n",
              "                                              splitter='best'),\n",
              "             iid='deprecated', n_jobs=-1,\n",
              "             param_grid={'criterion': ['gini', 'entropy'],\n",
              "                         'max_depth': range(6, 11),\n",
              "                         'max_features': range(6, 11)},\n",
              "             pre_dispatch='2*n_jobs', refit=True, return_train_score=False,\n",
              "             scoring='accuracy', verbose=0)"
            ]
          },
          "metadata": {
            "tags": []
          },
          "execution_count": 33
        }
      ]
    },
    {
      "cell_type": "code",
      "metadata": {
        "colab": {
          "base_uri": "https://localhost:8080/"
        },
        "id": "PLOwrtjJlDkB",
        "outputId": "61a18969-c200-4069-f504-4a421ce6d92b"
      },
      "source": [
        "print(\"Best: %f using %s\" % (grid.best_score_,grid.best_params_))"
      ],
      "execution_count": 34,
      "outputs": [
        {
          "output_type": "stream",
          "text": [
            "Best: 0.803003 using {'criterion': 'entropy', 'max_depth': 10, 'max_features': 10}\n"
          ],
          "name": "stdout"
        }
      ]
    },
    {
      "cell_type": "code",
      "metadata": {
        "colab": {
          "base_uri": "https://localhost:8080/"
        },
        "id": "faIEBNDanRut",
        "outputId": "65f22cb6-8c3e-48c0-e05c-9137ecb54f2d"
      },
      "source": [
        "model = DecisionTreeClassifier(criterion='gini',max_depth=14,max_features=9)\n",
        "model.fit(x_train,y_train)"
      ],
      "execution_count": 35,
      "outputs": [
        {
          "output_type": "execute_result",
          "data": {
            "text/plain": [
              "DecisionTreeClassifier(ccp_alpha=0.0, class_weight=None, criterion='gini',\n",
              "                       max_depth=14, max_features=9, max_leaf_nodes=None,\n",
              "                       min_impurity_decrease=0.0, min_impurity_split=None,\n",
              "                       min_samples_leaf=1, min_samples_split=2,\n",
              "                       min_weight_fraction_leaf=0.0, presort='deprecated',\n",
              "                       random_state=None, splitter='best')"
            ]
          },
          "metadata": {
            "tags": []
          },
          "execution_count": 35
        }
      ]
    },
    {
      "cell_type": "code",
      "metadata": {
        "colab": {
          "base_uri": "https://localhost:8080/"
        },
        "id": "XB1gSxZ4nq8c",
        "outputId": "880e9d23-789f-4476-ad56-040a1da356d1"
      },
      "source": [
        "y_pred = model.predict(x_test)\n",
        "y_pred"
      ],
      "execution_count": 36,
      "outputs": [
        {
          "output_type": "execute_result",
          "data": {
            "text/plain": [
              "array([0, 1, 1, ..., 0, 1, 0])"
            ]
          },
          "metadata": {
            "tags": []
          },
          "execution_count": 36
        }
      ]
    },
    {
      "cell_type": "code",
      "metadata": {
        "colab": {
          "base_uri": "https://localhost:8080/",
          "height": 176
        },
        "id": "w4eHhZMHn1b8",
        "outputId": "a3ee23d0-9ee7-476b-95d3-b341826456ae"
      },
      "source": [
        "from sklearn.metrics import accuracy_score ,classification_report,confusion_matrix\n",
        "print(confusion_matrix(y_test,y_pred))\n",
        "pd.crosstab(y_test,y_pred)"
      ],
      "execution_count": 37,
      "outputs": [
        {
          "output_type": "stream",
          "text": [
            "[[ 95430  54678]\n",
            " [  1499 148885]]\n"
          ],
          "name": "stdout"
        },
        {
          "output_type": "execute_result",
          "data": {
            "text/html": [
              "<div>\n",
              "<style scoped>\n",
              "    .dataframe tbody tr th:only-of-type {\n",
              "        vertical-align: middle;\n",
              "    }\n",
              "\n",
              "    .dataframe tbody tr th {\n",
              "        vertical-align: top;\n",
              "    }\n",
              "\n",
              "    .dataframe thead th {\n",
              "        text-align: right;\n",
              "    }\n",
              "</style>\n",
              "<table border=\"1\" class=\"dataframe\">\n",
              "  <thead>\n",
              "    <tr style=\"text-align: right;\">\n",
              "      <th>col_0</th>\n",
              "      <th>0</th>\n",
              "      <th>1</th>\n",
              "    </tr>\n",
              "    <tr>\n",
              "      <th>row_0</th>\n",
              "      <th></th>\n",
              "      <th></th>\n",
              "    </tr>\n",
              "  </thead>\n",
              "  <tbody>\n",
              "    <tr>\n",
              "      <th>0</th>\n",
              "      <td>95430</td>\n",
              "      <td>54678</td>\n",
              "    </tr>\n",
              "    <tr>\n",
              "      <th>1</th>\n",
              "      <td>1499</td>\n",
              "      <td>148885</td>\n",
              "    </tr>\n",
              "  </tbody>\n",
              "</table>\n",
              "</div>"
            ],
            "text/plain": [
              "col_0      0       1\n",
              "row_0               \n",
              "0      95430   54678\n",
              "1       1499  148885"
            ]
          },
          "metadata": {
            "tags": []
          },
          "execution_count": 37
        }
      ]
    },
    {
      "cell_type": "code",
      "metadata": {
        "colab": {
          "base_uri": "https://localhost:8080/"
        },
        "id": "jatZonv1n8Iu",
        "outputId": "ad6e1eab-bd3a-4f6b-ef4d-ebf50d320e02"
      },
      "source": [
        "train=round(model.score(x_train,y_train) * 100, 2)\n",
        "train"
      ],
      "execution_count": 38,
      "outputs": [
        {
          "output_type": "execute_result",
          "data": {
            "text/plain": [
              "81.77"
            ]
          },
          "metadata": {
            "tags": []
          },
          "execution_count": 38
        }
      ]
    },
    {
      "cell_type": "code",
      "metadata": {
        "colab": {
          "base_uri": "https://localhost:8080/"
        },
        "id": "gZSubfNMoEEb",
        "outputId": "42ad8eeb-4aff-4d0a-e83b-71ebc6f0872d"
      },
      "source": [
        "test_acc=round(accuracy_score(y_test,y_pred)*100,2)\n",
        "test_acc"
      ],
      "execution_count": 39,
      "outputs": [
        {
          "output_type": "execute_result",
          "data": {
            "text/plain": [
              "81.3"
            ]
          },
          "metadata": {
            "tags": []
          },
          "execution_count": 39
        }
      ]
    },
    {
      "cell_type": "code",
      "metadata": {
        "id": "lTOEchmh-V0o",
        "colab": {
          "base_uri": "https://localhost:8080/"
        },
        "outputId": "2a81a0b2-cca7-4810-c84c-98fdbd7df541"
      },
      "source": [
        "Model3 = RandomForestClassifier(n_estimators=50,max_features=3,min_samples_leaf=3,min_samples_split=2,n_jobs=-1,verbose=2)\n",
        "Model3.fit(x_train,y_train)"
      ],
      "execution_count": 40,
      "outputs": [
        {
          "output_type": "stream",
          "text": [
            "[Parallel(n_jobs=-1)]: Using backend ThreadingBackend with 2 concurrent workers.\n"
          ],
          "name": "stderr"
        },
        {
          "output_type": "stream",
          "text": [
            "building tree 1 of 50\n",
            "building tree 2 of 50\n",
            "building tree 3 of 50\n",
            "building tree 4 of 50\n",
            "building tree 5 of 50\n",
            "building tree 6 of 50\n",
            "building tree 7 of 50\n",
            "building tree 8 of 50\n",
            "building tree 9 of 50\n",
            "building tree 10 of 50\n",
            "building tree 11 of 50\n",
            "building tree 12 of 50\n",
            "building tree 13 of 50\n",
            "building tree 14 of 50\n",
            "building tree 15 of 50\n",
            "building tree 16 of 50\n",
            "building tree 17 of 50\n",
            "building tree 18 of 50\n",
            "building tree 19 of 50\n",
            "building tree 20 of 50\n",
            "building tree 21 of 50\n",
            "building tree 22 of 50\n",
            "building tree 23 of 50\n",
            "building tree 24 of 50\n",
            "building tree 25 of 50\n",
            "building tree 26 of 50\n",
            "building tree 27 of 50\n",
            "building tree 28 of 50\n",
            "building tree 29 of 50\n",
            "building tree 30 of 50\n",
            "building tree 31 of 50\n",
            "building tree 32 of 50\n",
            "building tree 33 of 50\n",
            "building tree 34 of 50\n",
            "building tree 35 of 50\n",
            "building tree 36 of 50\n",
            "building tree 37 of 50\n",
            "building tree 38 of 50\n"
          ],
          "name": "stdout"
        },
        {
          "output_type": "stream",
          "text": [
            "[Parallel(n_jobs=-1)]: Done  37 tasks      | elapsed:   54.9s\n"
          ],
          "name": "stderr"
        },
        {
          "output_type": "stream",
          "text": [
            "building tree 39 of 50\n",
            "building tree 40 of 50\n",
            "building tree 41 of 50\n",
            "building tree 42 of 50\n",
            "building tree 43 of 50\n",
            "building tree 44 of 50\n",
            "building tree 45 of 50\n",
            "building tree 46 of 50\n",
            "building tree 47 of 50\n",
            "building tree 48 of 50\n",
            "building tree 49 of 50\n",
            "building tree 50 of 50\n"
          ],
          "name": "stdout"
        },
        {
          "output_type": "stream",
          "text": [
            "[Parallel(n_jobs=-1)]: Done  50 out of  50 | elapsed:  1.2min finished\n"
          ],
          "name": "stderr"
        },
        {
          "output_type": "execute_result",
          "data": {
            "text/plain": [
              "RandomForestClassifier(bootstrap=True, ccp_alpha=0.0, class_weight=None,\n",
              "                       criterion='gini', max_depth=None, max_features=3,\n",
              "                       max_leaf_nodes=None, max_samples=None,\n",
              "                       min_impurity_decrease=0.0, min_impurity_split=None,\n",
              "                       min_samples_leaf=3, min_samples_split=2,\n",
              "                       min_weight_fraction_leaf=0.0, n_estimators=50, n_jobs=-1,\n",
              "                       oob_score=False, random_state=None, verbose=2,\n",
              "                       warm_start=False)"
            ]
          },
          "metadata": {
            "tags": []
          },
          "execution_count": 40
        }
      ]
    },
    {
      "cell_type": "code",
      "metadata": {
        "colab": {
          "base_uri": "https://localhost:8080/"
        },
        "id": "7kTKtFCFYwF9",
        "outputId": "87eb3c99-84aa-47a5-df70-ba0cd0c62ccc"
      },
      "source": [
        "train1=round(Model3.score(x_train,y_train) * 100, 2)\n",
        "train1"
      ],
      "execution_count": 41,
      "outputs": [
        {
          "output_type": "stream",
          "text": [
            "[Parallel(n_jobs=2)]: Using backend ThreadingBackend with 2 concurrent workers.\n",
            "[Parallel(n_jobs=2)]: Done  37 tasks      | elapsed:    5.1s\n",
            "[Parallel(n_jobs=2)]: Done  50 out of  50 | elapsed:    6.7s finished\n"
          ],
          "name": "stderr"
        },
        {
          "output_type": "execute_result",
          "data": {
            "text/plain": [
              "93.02"
            ]
          },
          "metadata": {
            "tags": []
          },
          "execution_count": 41
        }
      ]
    },
    {
      "cell_type": "code",
      "metadata": {
        "colab": {
          "base_uri": "https://localhost:8080/"
        },
        "id": "SWPRjdItY5Jd",
        "outputId": "c78232a2-1441-4145-e9ae-2b7376e5b907"
      },
      "source": [
        "y_pred2 = Model3.predict(x_test)\n",
        "y_pred2"
      ],
      "execution_count": 42,
      "outputs": [
        {
          "output_type": "stream",
          "text": [
            "[Parallel(n_jobs=2)]: Using backend ThreadingBackend with 2 concurrent workers.\n",
            "[Parallel(n_jobs=2)]: Done  37 tasks      | elapsed:    2.3s\n",
            "[Parallel(n_jobs=2)]: Done  50 out of  50 | elapsed:    3.0s finished\n"
          ],
          "name": "stderr"
        },
        {
          "output_type": "execute_result",
          "data": {
            "text/plain": [
              "array([0, 0, 1, ..., 0, 1, 0])"
            ]
          },
          "metadata": {
            "tags": []
          },
          "execution_count": 42
        }
      ]
    },
    {
      "cell_type": "code",
      "metadata": {
        "colab": {
          "base_uri": "https://localhost:8080/"
        },
        "id": "WyljZxxIY7pM",
        "outputId": "93e80469-fc5c-47c0-b941-88e922e289e5"
      },
      "source": [
        "test1=round(accuracy_score(y_test,y_pred2)*100,2)\n",
        "test1"
      ],
      "execution_count": 43,
      "outputs": [
        {
          "output_type": "execute_result",
          "data": {
            "text/plain": [
              "83.09"
            ]
          },
          "metadata": {
            "tags": []
          },
          "execution_count": 43
        }
      ]
    },
    {
      "cell_type": "code",
      "metadata": {
        "id": "g8C2ZD6wZaNq"
      },
      "source": [
        "clf2 = RandomForestClassifier()\n",
        "n_estimators = [70]\n",
        "max_features = [3]\n",
        "min_samples_split = [2]\n",
        "min_samples_leaf = [3]\n",
        "max_depth = [10]"
      ],
      "execution_count": 44,
      "outputs": []
    },
    {
      "cell_type": "code",
      "metadata": {
        "colab": {
          "base_uri": "https://localhost:8080/"
        },
        "id": "22tsvnuZat0r",
        "outputId": "334c2dfa-28a5-4534-9210-77307bf1aef2"
      },
      "source": [
        "params2 = dict(n_estimators=n_estimators,max_features=max_features,min_samples_split=min_samples_split,min_samples_leaf=min_samples_leaf,max_depth=max_depth)\n",
        "cv = StratifiedKFold(n_splits=3,random_state=42)"
      ],
      "execution_count": 45,
      "outputs": [
        {
          "output_type": "stream",
          "text": [
            "/usr/local/lib/python3.7/dist-packages/sklearn/model_selection/_split.py:296: FutureWarning: Setting a random_state has no effect since shuffle is False. This will raise an error in 0.24. You should leave random_state to its default (None), or set shuffle=True.\n",
            "  FutureWarning\n"
          ],
          "name": "stderr"
        }
      ]
    },
    {
      "cell_type": "code",
      "metadata": {
        "colab": {
          "base_uri": "https://localhost:8080/"
        },
        "id": "nHFakIN2cE3T",
        "outputId": "0a935416-8c3f-4426-c888-2273c0ef5d05"
      },
      "source": [
        "from sklearn.model_selection import GridSearchCV\n",
        "grid2 = GridSearchCV(estimator=clf2,param_grid=params2,scoring='accuracy',n_jobs=-1,error_score=0,verbose=2)\n",
        "grid2.fit(x_train,y_train)"
      ],
      "execution_count": 46,
      "outputs": [
        {
          "output_type": "stream",
          "text": [
            "[Parallel(n_jobs=-1)]: Using backend LokyBackend with 2 concurrent workers.\n"
          ],
          "name": "stderr"
        },
        {
          "output_type": "stream",
          "text": [
            "Fitting 5 folds for each of 1 candidates, totalling 5 fits\n"
          ],
          "name": "stdout"
        },
        {
          "output_type": "stream",
          "text": [
            "[Parallel(n_jobs=-1)]: Done   5 out of   5 | elapsed:  4.4min remaining:    0.0s\n",
            "[Parallel(n_jobs=-1)]: Done   5 out of   5 | elapsed:  4.4min finished\n"
          ],
          "name": "stderr"
        },
        {
          "output_type": "execute_result",
          "data": {
            "text/plain": [
              "GridSearchCV(cv=None, error_score=0,\n",
              "             estimator=RandomForestClassifier(bootstrap=True, ccp_alpha=0.0,\n",
              "                                              class_weight=None,\n",
              "                                              criterion='gini', max_depth=None,\n",
              "                                              max_features='auto',\n",
              "                                              max_leaf_nodes=None,\n",
              "                                              max_samples=None,\n",
              "                                              min_impurity_decrease=0.0,\n",
              "                                              min_impurity_split=None,\n",
              "                                              min_samples_leaf=1,\n",
              "                                              min_samples_split=2,\n",
              "                                              min_weight_fraction_leaf=0.0,\n",
              "                                              n_estimators=100, n_jobs=None,\n",
              "                                              oob_score=False,\n",
              "                                              random_state=None, verbose=0,\n",
              "                                              warm_start=False),\n",
              "             iid='deprecated', n_jobs=-1,\n",
              "             param_grid={'max_depth': [10], 'max_features': [3],\n",
              "                         'min_samples_leaf': [3], 'min_samples_split': [2],\n",
              "                         'n_estimators': [70]},\n",
              "             pre_dispatch='2*n_jobs', refit=True, return_train_score=False,\n",
              "             scoring='accuracy', verbose=2)"
            ]
          },
          "metadata": {
            "tags": []
          },
          "execution_count": 46
        }
      ]
    },
    {
      "cell_type": "code",
      "metadata": {
        "colab": {
          "base_uri": "https://localhost:8080/"
        },
        "id": "Cv5NUf_Mat3W",
        "outputId": "d8aa77bf-55ba-44ac-a610-ccd18c1deac2"
      },
      "source": [
        "print(\"Best: %f using %s\" % (grid2.best_score_,grid2.best_params_))"
      ],
      "execution_count": 47,
      "outputs": [
        {
          "output_type": "stream",
          "text": [
            "Best: 0.805999 using {'max_depth': 10, 'max_features': 3, 'min_samples_leaf': 3, 'min_samples_split': 2, 'n_estimators': 70}\n"
          ],
          "name": "stdout"
        }
      ]
    },
    {
      "cell_type": "code",
      "metadata": {
        "colab": {
          "base_uri": "https://localhost:8080/"
        },
        "id": "L33wtrMieOGv",
        "outputId": "3fc1f93e-ee91-4d42-90bb-2e946260e067"
      },
      "source": [
        "clf2 = RandomForestClassifier(n_estimators=70,max_features=4,min_samples_leaf=5,min_samples_split=3,max_depth=16,n_jobs=-1,verbose=2)\n",
        "clf2.fit(x_train,y_train) "
      ],
      "execution_count": 48,
      "outputs": [
        {
          "output_type": "stream",
          "text": [
            "building tree 1 of 70\n",
            "building tree 2 of 70\n"
          ],
          "name": "stdout"
        },
        {
          "output_type": "stream",
          "text": [
            "[Parallel(n_jobs=-1)]: Using backend ThreadingBackend with 2 concurrent workers.\n"
          ],
          "name": "stderr"
        },
        {
          "output_type": "stream",
          "text": [
            "building tree 3 of 70\n",
            "building tree 4 of 70\n",
            "building tree 5 of 70\n",
            "building tree 6 of 70\n",
            "building tree 7 of 70\n",
            "building tree 8 of 70\n",
            "building tree 9 of 70\n",
            "building tree 10 of 70\n",
            "building tree 11 of 70\n",
            "building tree 12 of 70\n",
            "building tree 13 of 70\n",
            "building tree 14 of 70\n",
            "building tree 15 of 70\n",
            "building tree 16 of 70\n",
            "building tree 17 of 70\n",
            "building tree 18 of 70\n",
            "building tree 19 of 70\n",
            "building tree 20 of 70\n",
            "building tree 21 of 70\n",
            "building tree 22 of 70\n",
            "building tree 23 of 70\n",
            "building tree 24 of 70\n",
            "building tree 25 of 70\n",
            "building tree 26 of 70\n",
            "building tree 27 of 70\n",
            "building tree 28 of 70\n",
            "building tree 29 of 70\n",
            "building tree 30 of 70\n",
            "building tree 31 of 70\n",
            "building tree 32 of 70\n",
            "building tree 33 of 70\n",
            "building tree 34 of 70\n",
            "building tree 35 of 70\n",
            "building tree 36 of 70\n",
            "building tree 37 of 70\n",
            "building tree 38 of 70\n"
          ],
          "name": "stdout"
        },
        {
          "output_type": "stream",
          "text": [
            "[Parallel(n_jobs=-1)]: Done  37 tasks      | elapsed:   53.2s\n"
          ],
          "name": "stderr"
        },
        {
          "output_type": "stream",
          "text": [
            "building tree 39 of 70\n",
            "building tree 40 of 70\n",
            "building tree 41 of 70\n",
            "building tree 42 of 70\n",
            "building tree 43 of 70\n",
            "building tree 44 of 70\n",
            "building tree 45 of 70\n",
            "building tree 46 of 70\n",
            "building tree 47 of 70\n",
            "building tree 48 of 70\n",
            "building tree 49 of 70\n",
            "building tree 50 of 70\n",
            "building tree 51 of 70\n",
            "building tree 52 of 70\n",
            "building tree 53 of 70\n",
            "building tree 54 of 70\n",
            "building tree 55 of 70\n",
            "building tree 56 of 70\n",
            "building tree 57 of 70\n",
            "building tree 58 of 70\n",
            "building tree 59 of 70\n",
            "building tree 60 of 70\n",
            "building tree 61 of 70\n",
            "building tree 62 of 70\n",
            "building tree 63 of 70\n",
            "building tree 64 of 70\n",
            "building tree 65 of 70\n",
            "building tree 66 of 70\n",
            "building tree 67 of 70\n",
            "building tree 68 of 70\n",
            "building tree 69 of 70\n",
            "building tree 70 of 70\n"
          ],
          "name": "stdout"
        },
        {
          "output_type": "stream",
          "text": [
            "[Parallel(n_jobs=-1)]: Done  70 out of  70 | elapsed:  1.6min finished\n"
          ],
          "name": "stderr"
        },
        {
          "output_type": "execute_result",
          "data": {
            "text/plain": [
              "RandomForestClassifier(bootstrap=True, ccp_alpha=0.0, class_weight=None,\n",
              "                       criterion='gini', max_depth=16, max_features=4,\n",
              "                       max_leaf_nodes=None, max_samples=None,\n",
              "                       min_impurity_decrease=0.0, min_impurity_split=None,\n",
              "                       min_samples_leaf=5, min_samples_split=3,\n",
              "                       min_weight_fraction_leaf=0.0, n_estimators=70, n_jobs=-1,\n",
              "                       oob_score=False, random_state=None, verbose=2,\n",
              "                       warm_start=False)"
            ]
          },
          "metadata": {
            "tags": []
          },
          "execution_count": 48
        }
      ]
    },
    {
      "cell_type": "code",
      "metadata": {
        "colab": {
          "base_uri": "https://localhost:8080/"
        },
        "id": "W1lpbdmEee8O",
        "outputId": "c42d3980-97f2-4aeb-ebb0-17ab0054fb94"
      },
      "source": [
        "y3_pred = clf2.predict(x_test)\n",
        "y3_pred"
      ],
      "execution_count": 49,
      "outputs": [
        {
          "output_type": "stream",
          "text": [
            "[Parallel(n_jobs=2)]: Using backend ThreadingBackend with 2 concurrent workers.\n",
            "[Parallel(n_jobs=2)]: Done  37 tasks      | elapsed:    1.0s\n",
            "[Parallel(n_jobs=2)]: Done  70 out of  70 | elapsed:    1.9s finished\n"
          ],
          "name": "stderr"
        },
        {
          "output_type": "execute_result",
          "data": {
            "text/plain": [
              "array([0, 0, 1, ..., 0, 1, 0])"
            ]
          },
          "metadata": {
            "tags": []
          },
          "execution_count": 49
        }
      ]
    },
    {
      "cell_type": "code",
      "metadata": {
        "colab": {
          "base_uri": "https://localhost:8080/"
        },
        "id": "ss_9lD5MexI7",
        "outputId": "9bf3834f-7d89-482d-9ead-180d9d21fb76"
      },
      "source": [
        "train3=round(clf2.score(x_train,y_train) * 100, 2)\n",
        "train3 "
      ],
      "execution_count": 50,
      "outputs": [
        {
          "output_type": "stream",
          "text": [
            "[Parallel(n_jobs=2)]: Using backend ThreadingBackend with 2 concurrent workers.\n",
            "[Parallel(n_jobs=2)]: Done  37 tasks      | elapsed:    2.4s\n",
            "[Parallel(n_jobs=2)]: Done  70 out of  70 | elapsed:    4.4s finished\n"
          ],
          "name": "stderr"
        },
        {
          "output_type": "execute_result",
          "data": {
            "text/plain": [
              "82.22"
            ]
          },
          "metadata": {
            "tags": []
          },
          "execution_count": 50
        }
      ]
    },
    {
      "cell_type": "code",
      "metadata": {
        "colab": {
          "base_uri": "https://localhost:8080/"
        },
        "id": "9Ba-iQF6e2fj",
        "outputId": "ce4b3e52-f293-49e5-ee9d-bb1acc261b6d"
      },
      "source": [
        "test3=round(accuracy_score(y_test,y3_pred)*100,2)\n",
        "test3"
      ],
      "execution_count": 51,
      "outputs": [
        {
          "output_type": "execute_result",
          "data": {
            "text/plain": [
              "82.16"
            ]
          },
          "metadata": {
            "tags": []
          },
          "execution_count": 51
        }
      ]
    },
    {
      "cell_type": "code",
      "metadata": {
        "id": "shoIEWYnH0k9"
      },
      "source": [
        "from pickle import dump\n",
        "from pickle import load\n",
        "dump(clf2,open('FINAL_RF.sav', 'wb'))"
      ],
      "execution_count": 52,
      "outputs": []
    },
    {
      "cell_type": "code",
      "metadata": {
        "colab": {
          "base_uri": "https://localhost:8080/"
        },
        "id": "0uvNs3krMdST",
        "outputId": "5b605121-1e51-455e-fd75-e1a0ffefa180"
      },
      "source": [
        "loaded_model=load(open('FINAL_RF.sav' ,'rb'))\n",
        "result = loaded_model.score(x_test,y_test)\n",
        "print(result)"
      ],
      "execution_count": 54,
      "outputs": [
        {
          "output_type": "stream",
          "text": [
            "[Parallel(n_jobs=2)]: Using backend ThreadingBackend with 2 concurrent workers.\n",
            "[Parallel(n_jobs=2)]: Done  37 tasks      | elapsed:    1.0s\n"
          ],
          "name": "stderr"
        },
        {
          "output_type": "stream",
          "text": [
            "0.8215593093992519\n"
          ],
          "name": "stdout"
        },
        {
          "output_type": "stream",
          "text": [
            "[Parallel(n_jobs=2)]: Done  70 out of  70 | elapsed:    1.9s finished\n"
          ],
          "name": "stderr"
        }
      ]
    }
  ]
}